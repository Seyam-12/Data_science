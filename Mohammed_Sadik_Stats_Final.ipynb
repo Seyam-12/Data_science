{
  "cells": [
    {
      "cell_type": "markdown",
      "metadata": {
        "id": "view-in-github",
        "colab_type": "text"
      },
      "source": [
        "<a href=\"https://colab.research.google.com/github/Seyam-12/Data_science/blob/main/Mohammed_Sadik_Stats_Final.ipynb\" target=\"_parent\"><img src=\"https://colab.research.google.com/assets/colab-badge.svg\" alt=\"Open In Colab\"/></a>"
      ]
    },
    {
      "cell_type": "markdown",
      "source": [
        "# STA 2023 Final Project\n",
        "## Directions:\n",
        "\n",
        "1) Replace the image dataset in the google slides with your own data.\n",
        "\n",
        "2) Comment and explain all code to the best of your ability.\n",
        "\n",
        "3) Run your model 3 times. \n",
        "\n",
        "4) Report best, worst, and average of the three runs. \n",
        "\n",
        "\n",
        "\n",
        "\n",
        "Use any and all resources available to you.\n",
        "\n",
        "Comment and explain the code.\n",
        "\n",
        "Answer the questions to the best of your abilities.\n",
        "\n",
        "If you have any questions, txt 561-479-8123\n",
        "\n",
        "Save this notebook to your GitHub and submit the link on Canvas\n"
      ],
      "metadata": {
        "id": "vU-T5aoAhMBC"
      }
    },
    {
      "cell_type": "code",
      "execution_count": 3,
      "metadata": {
        "id": "MJjTOJXQY7L2"
      },
      "outputs": [],
      "source": [
        "%%capture\n",
        "!pip install wandb\n",
        "!apt-get install poppler-utils\n",
        "!pip install pdf2image\n",
        "!pip install flashtorch\n",
        "import requests\n",
        "from pdf2image import convert_from_path\n",
        "import matplotlib.pyplot as plt\n",
        "import numpy as np\n",
        "import torch\n",
        "import requests\n",
        "from torchvision import *\n",
        "from torchvision.models import *\n",
        "from flashtorch.utils import apply_transforms\n",
        "import wandb as wb"
      ]
    },
    {
      "cell_type": "code",
      "execution_count": 4,
      "metadata": {
        "id": "OcM-MSMRmAXL"
      },
      "outputs": [],
      "source": [
        "def GPU(data):\n",
        "    return torch.tensor(data, requires_grad=True, dtype=torch.float, device=torch.device('cuda'))\n",
        "    #dat sis set\n",
        "\n",
        "def GPU_data(data):\n",
        "    return torch.tensor(data, requires_grad=False, dtype=torch.float, device=torch.device('cuda'))\n",
        "\n",
        "def plot(x):\n",
        "    fig, ax = plt.subplots()\n",
        "    im = ax.imshow(x, cmap = 'gray')\n",
        "    ax.axis('off')\n",
        "    fig.set_size_inches(5, 5)\n",
        "    plt.show()\n",
        "    # the size ND ll the format is seted.\n",
        "    \n",
        "def get_google_slide(url):\n",
        "    url_head = \"https://docs.google.com/presentation/d/\"\n",
        "    url_body = url.split('/')[5]\n",
        "    page_id = url.split('.')[-1]\n",
        "    return url_head + url_body + \"/export/pdf?id=\" + url_body + \"&pageid=\" + page_id\n",
        "    # googole slide presentation is set and the format of it.\n",
        "\n",
        "def get_slides(url):\n",
        "    url = get_google_slide(url)\n",
        "    r = requests.get(url, allow_redirects=True)\n",
        "    open('file.pdf', 'wb').write(r.content)\n",
        "    images = convert_from_path('file.pdf', 500)\n",
        "    return images\n",
        "    # commanding what to due with the google slide.\n",
        "\n",
        "def load(image):\n",
        "\n",
        "    return apply_transforms(image).clone().detach().requires_grad_(True).to(device)\n",
        "\n",
        "device = torch.device(\"cuda:0\" if torch.cuda.is_available() else \"cpu\")\n",
        "# what to do with the picture."
      ]
    },
    {
      "cell_type": "code",
      "execution_count": 5,
      "metadata": {
        "id": "opN3hI0lemBV",
        "colab": {
          "base_uri": "https://localhost:8080/",
          "height": 67,
          "referenced_widgets": [
            "217b87dece984ba69316efb08cdcd9d8",
            "da39b02d0d634010b36806286a65a7ef",
            "b8dd3948cb9f4424bbe0595c89cbdf79",
            "fd3247fadf0b48f6aac627cebef8b28f",
            "ccf8e1fbc41949178c3ef999f8c5a797",
            "b2ba6a82ef4249a59072e733eeb97845",
            "e667139a69724e698006170fff4b846b",
            "f73ccfb615ae49ed9910b41df5fdce87",
            "10b938f85a444c98b2857cd800765f1c",
            "4475ea9cdfd34ce28aa04c6672bc7230",
            "70ac21c8e73240c29deabc1dec2ca550"
          ]
        },
        "outputId": "d4422080-0901-41d7-b23a-a4d79522970f"
      },
      "outputs": [
        {
          "output_type": "stream",
          "name": "stderr",
          "text": [
            "Downloading: \"https://download.pytorch.org/models/alexnet-owt-7be5be79.pth\" to /root/.cache/torch/hub/checkpoints/alexnet-owt-7be5be79.pth\n"
          ]
        },
        {
          "output_type": "display_data",
          "data": {
            "text/plain": [
              "  0%|          | 0.00/233M [00:00<?, ?B/s]"
            ],
            "application/vnd.jupyter.widget-view+json": {
              "version_major": 2,
              "version_minor": 0,
              "model_id": "217b87dece984ba69316efb08cdcd9d8"
            }
          },
          "metadata": {}
        }
      ],
      "source": [
        "labels = {int(key):value for (key, value) in requests.get('https://s3.amazonaws.com/mlpipes/pytorch-quick-start/labels.json').json().items()}\n",
        "\n",
        "model = alexnet(weights='DEFAULT').to(device)\n",
        "model.eval();\n",
        "# all the data is set"
      ]
    },
    {
      "cell_type": "code",
      "execution_count": 6,
      "metadata": {
        "id": "2EnZVMTqiqwz"
      },
      "outputs": [],
      "source": [
        "url = \"https://docs.google.com/presentation/d/1ZwKTAjE8L8Zqnuv8sQSO51AhbIxPldD32Um3zkZ7Ozg/edit#slide=id.g1b01b725f21_0_90\"\n",
        "# the link to the slide presentation."
      ]
    },
    {
      "cell_type": "code",
      "execution_count": 7,
      "metadata": {
        "colab": {
          "base_uri": "https://localhost:8080/",
          "height": 1000
        },
        "id": "h7MhH8hrR3AE",
        "outputId": "1ffaecf2-ebb3-4cc6-a623-6a5d5a311da0"
      },
      "outputs": [
        {
          "output_type": "error",
          "ename": "PDFPageCountError",
          "evalue": "ignored",
          "traceback": [
            "\u001b[0;31m---------------------------------------------------------------------------\u001b[0m",
            "\u001b[0;31mValueError\u001b[0m                                Traceback (most recent call last)",
            "\u001b[0;32m/usr/local/lib/python3.8/dist-packages/pdf2image/pdf2image.py\u001b[0m in \u001b[0;36mpdfinfo_from_path\u001b[0;34m(pdf_path, userpw, poppler_path, rawdates, timeout)\u001b[0m\n\u001b[1;32m    478\u001b[0m         \u001b[0;32mif\u001b[0m \u001b[0;34m\"Pages\"\u001b[0m \u001b[0;32mnot\u001b[0m \u001b[0;32min\u001b[0m \u001b[0md\u001b[0m\u001b[0;34m:\u001b[0m\u001b[0;34m\u001b[0m\u001b[0;34m\u001b[0m\u001b[0m\n\u001b[0;32m--> 479\u001b[0;31m             \u001b[0;32mraise\u001b[0m \u001b[0mValueError\u001b[0m\u001b[0;34m\u001b[0m\u001b[0;34m\u001b[0m\u001b[0m\n\u001b[0m\u001b[1;32m    480\u001b[0m \u001b[0;34m\u001b[0m\u001b[0m\n",
            "\u001b[0;31mValueError\u001b[0m: ",
            "\nDuring handling of the above exception, another exception occurred:\n",
            "\u001b[0;31mPDFPageCountError\u001b[0m                         Traceback (most recent call last)",
            "\u001b[0;32m<ipython-input-7-ceb46f1f9c5b>\u001b[0m in \u001b[0;36m<module>\u001b[0;34m\u001b[0m\n\u001b[1;32m      1\u001b[0m \u001b[0mimages\u001b[0m \u001b[0;34m=\u001b[0m \u001b[0;34m[\u001b[0m\u001b[0;34m]\u001b[0m\u001b[0;34m\u001b[0m\u001b[0;34m\u001b[0m\u001b[0m\n\u001b[1;32m      2\u001b[0m \u001b[0;34m\u001b[0m\u001b[0m\n\u001b[0;32m----> 3\u001b[0;31m \u001b[0;32mfor\u001b[0m \u001b[0mimage\u001b[0m \u001b[0;32min\u001b[0m \u001b[0mget_slides\u001b[0m\u001b[0;34m(\u001b[0m\u001b[0murl\u001b[0m\u001b[0;34m)\u001b[0m\u001b[0;34m:\u001b[0m\u001b[0;34m\u001b[0m\u001b[0;34m\u001b[0m\u001b[0m\n\u001b[0m\u001b[1;32m      4\u001b[0m \u001b[0;34m\u001b[0m\u001b[0m\n\u001b[1;32m      5\u001b[0m     \u001b[0mplot\u001b[0m\u001b[0;34m(\u001b[0m\u001b[0mimage\u001b[0m\u001b[0;34m)\u001b[0m\u001b[0;34m\u001b[0m\u001b[0;34m\u001b[0m\u001b[0m\n",
            "\u001b[0;32m<ipython-input-4-33bd72ae1f17>\u001b[0m in \u001b[0;36mget_slides\u001b[0;34m(url)\u001b[0m\n\u001b[1;32m     25\u001b[0m     \u001b[0mr\u001b[0m \u001b[0;34m=\u001b[0m \u001b[0mrequests\u001b[0m\u001b[0;34m.\u001b[0m\u001b[0mget\u001b[0m\u001b[0;34m(\u001b[0m\u001b[0murl\u001b[0m\u001b[0;34m,\u001b[0m \u001b[0mallow_redirects\u001b[0m\u001b[0;34m=\u001b[0m\u001b[0;32mTrue\u001b[0m\u001b[0;34m)\u001b[0m\u001b[0;34m\u001b[0m\u001b[0;34m\u001b[0m\u001b[0m\n\u001b[1;32m     26\u001b[0m     \u001b[0mopen\u001b[0m\u001b[0;34m(\u001b[0m\u001b[0;34m'file.pdf'\u001b[0m\u001b[0;34m,\u001b[0m \u001b[0;34m'wb'\u001b[0m\u001b[0;34m)\u001b[0m\u001b[0;34m.\u001b[0m\u001b[0mwrite\u001b[0m\u001b[0;34m(\u001b[0m\u001b[0mr\u001b[0m\u001b[0;34m.\u001b[0m\u001b[0mcontent\u001b[0m\u001b[0;34m)\u001b[0m\u001b[0;34m\u001b[0m\u001b[0;34m\u001b[0m\u001b[0m\n\u001b[0;32m---> 27\u001b[0;31m     \u001b[0mimages\u001b[0m \u001b[0;34m=\u001b[0m \u001b[0mconvert_from_path\u001b[0m\u001b[0;34m(\u001b[0m\u001b[0;34m'file.pdf'\u001b[0m\u001b[0;34m,\u001b[0m \u001b[0;36m500\u001b[0m\u001b[0;34m)\u001b[0m\u001b[0;34m\u001b[0m\u001b[0;34m\u001b[0m\u001b[0m\n\u001b[0m\u001b[1;32m     28\u001b[0m     \u001b[0;32mreturn\u001b[0m \u001b[0mimages\u001b[0m\u001b[0;34m\u001b[0m\u001b[0;34m\u001b[0m\u001b[0m\n\u001b[1;32m     29\u001b[0m     \u001b[0;31m# commanding what to due with the google slide.\u001b[0m\u001b[0;34m\u001b[0m\u001b[0;34m\u001b[0m\u001b[0;34m\u001b[0m\u001b[0m\n",
            "\u001b[0;32m/usr/local/lib/python3.8/dist-packages/pdf2image/pdf2image.py\u001b[0m in \u001b[0;36mconvert_from_path\u001b[0;34m(pdf_path, dpi, output_folder, first_page, last_page, fmt, jpegopt, thread_count, userpw, use_cropbox, strict, transparent, single_file, output_file, poppler_path, grayscale, size, paths_only, use_pdftocairo, timeout, hide_annotations)\u001b[0m\n\u001b[1;32m     96\u001b[0m         \u001b[0mpoppler_path\u001b[0m \u001b[0;34m=\u001b[0m \u001b[0mpoppler_path\u001b[0m\u001b[0;34m.\u001b[0m\u001b[0mas_posix\u001b[0m\u001b[0;34m(\u001b[0m\u001b[0;34m)\u001b[0m\u001b[0;34m\u001b[0m\u001b[0;34m\u001b[0m\u001b[0m\n\u001b[1;32m     97\u001b[0m \u001b[0;34m\u001b[0m\u001b[0m\n\u001b[0;32m---> 98\u001b[0;31m     \u001b[0mpage_count\u001b[0m \u001b[0;34m=\u001b[0m \u001b[0mpdfinfo_from_path\u001b[0m\u001b[0;34m(\u001b[0m\u001b[0mpdf_path\u001b[0m\u001b[0;34m,\u001b[0m \u001b[0muserpw\u001b[0m\u001b[0;34m,\u001b[0m \u001b[0mpoppler_path\u001b[0m\u001b[0;34m=\u001b[0m\u001b[0mpoppler_path\u001b[0m\u001b[0;34m)\u001b[0m\u001b[0;34m[\u001b[0m\u001b[0;34m\"Pages\"\u001b[0m\u001b[0;34m]\u001b[0m\u001b[0;34m\u001b[0m\u001b[0;34m\u001b[0m\u001b[0m\n\u001b[0m\u001b[1;32m     99\u001b[0m \u001b[0;34m\u001b[0m\u001b[0m\n\u001b[1;32m    100\u001b[0m     \u001b[0;31m# We start by getting the output format, the buffer processing function and if we need pdftocairo\u001b[0m\u001b[0;34m\u001b[0m\u001b[0;34m\u001b[0m\u001b[0;34m\u001b[0m\u001b[0m\n",
            "\u001b[0;32m/usr/local/lib/python3.8/dist-packages/pdf2image/pdf2image.py\u001b[0m in \u001b[0;36mpdfinfo_from_path\u001b[0;34m(pdf_path, userpw, poppler_path, rawdates, timeout)\u001b[0m\n\u001b[1;32m    486\u001b[0m         )\n\u001b[1;32m    487\u001b[0m     \u001b[0;32mexcept\u001b[0m \u001b[0mValueError\u001b[0m\u001b[0;34m:\u001b[0m\u001b[0;34m\u001b[0m\u001b[0;34m\u001b[0m\u001b[0m\n\u001b[0;32m--> 488\u001b[0;31m         raise PDFPageCountError(\n\u001b[0m\u001b[1;32m    489\u001b[0m             \u001b[0;34m\"Unable to get page count.\\n%s\"\u001b[0m \u001b[0;34m%\u001b[0m \u001b[0merr\u001b[0m\u001b[0;34m.\u001b[0m\u001b[0mdecode\u001b[0m\u001b[0;34m(\u001b[0m\u001b[0;34m\"utf8\"\u001b[0m\u001b[0;34m,\u001b[0m \u001b[0;34m\"ignore\"\u001b[0m\u001b[0;34m)\u001b[0m\u001b[0;34m\u001b[0m\u001b[0;34m\u001b[0m\u001b[0m\n\u001b[1;32m    490\u001b[0m         )\n",
            "\u001b[0;31mPDFPageCountError\u001b[0m: Unable to get page count.\nSyntax Warning: May not be a PDF file (continuing anyway)\nSyntax Error (2): Illegal character <21> in hex string\nSyntax Error (4): Illegal character <6f> in hex string\nSyntax Error (6): Illegal character <74> in hex string\nSyntax Error (7): Illegal character <79> in hex string\nSyntax Error (8): Illegal character <70> in hex string\nSyntax Error (11): Illegal character <68> in hex string\nSyntax Error (12): Illegal character <74> in hex string\nSyntax Error (13): Illegal character <6d> in hex string\nSyntax Error (14): Illegal character <6c> in hex string\nSyntax Error (17): Illegal character <68> in hex string\nSyntax Error (18): Illegal character <74> in hex string\nSyntax Error (19): Illegal character <6d> in hex string\nSyntax Error (20): Illegal character <6c> in hex string\nSyntax Error (22): Illegal character <6c> in hex string\nSyntax Error (24): Illegal character <6e> in hex string\nSyntax Error (25): Illegal character <67> in hex string\nSyntax Error (26): Illegal character <3d> in hex string\nSyntax Error (27): Illegal character <22> in hex string\nSyntax Error (29): Illegal character <6e> in hex string\nSyntax Error (30): Illegal character <2d> in hex string\nSyntax Error (31): Illegal character <55> in hex string\nSyntax Error (32): Illegal character <53> in hex string\nSyntax Error (33): Illegal character <22> in hex string\nSyntax Error (36): Illegal character <69> in hex string\nSyntax Error (37): Illegal character <72> in hex string\nSyntax Error (38): Illegal character <3d> in hex string\nSyntax Error (39): Illegal character <22> in hex string\nSyntax Error (40): Illegal character <6c> in hex string\nSyntax Error (41): Illegal character <74> in hex string\nSyntax Error (42): Illegal character <72> in hex string\nSyntax Error (43): Illegal character <22> in hex string\nSyntax Error (46): Illegal character <68> in hex string\nSyntax Error (54): Illegal character <73> in hex string\nSyntax Error (57): Illegal character <68> in hex string\nSyntax Error (58): Illegal character <72> in hex string\nSyntax Error (61): Illegal character <3d> in hex string\nSyntax Error (62): Illegal character <22> in hex string\nSyntax Error (63): Illegal character <68> in hex string\nSyntax Error (64): Illegal character <74> in hex string\nSyntax Error (65): Illegal character <74> in hex string\nSyntax Error (66): Illegal character <70> in hex string\nSyntax Error (67): Illegal character <73> in hex string\nSyntax Error (68): Illegal character <3a> in hex string\nSyntax Error (69): Illegal character <2f> in hex string\nSyntax Error (70): Illegal character <2f> in hex string\nSyntax Error (74): Illegal character <6f> in hex string\nSyntax Error (75): Illegal character <75> in hex string\nSyntax Error (76): Illegal character <6e> in hex string\nSyntax Error (77): Illegal character <74> in hex string\nSyntax Error (78): Illegal character <73> in hex string\nSyntax Error (79): Illegal character <2e> in hex string\nSyntax Error (80): Illegal character <67> in hex string\nSyntax Error (81): Illegal character <6f> in hex string\nSyntax Error (82): Illegal character <6f> in hex string\nSyntax Error (83): Illegal character <67> in hex string\nSyntax Error (84): Illegal character <6c> in hex string\nSyntax Error (86): Illegal character <2e> in hex string\nSyntax Error (88): Illegal character <6f> in hex string\nSyntax Error (89): Illegal character <6d> in hex string\nSyntax Error (90): Illegal character <2f> in hex string\nSyntax Error (91): Illegal character <76> in hex string\nSyntax Error (93): Illegal character <2f> in hex string\nSyntax Error (94): Illegal character <73> in hex string\nSyntax Error (95): Illegal character <69> in hex string\nSyntax Error (96): Illegal character <67> in hex string\nSyntax Error (97): Illegal character <6e> in hex string\nSyntax Error (98): Illegal character <69> in hex string\nSyntax Error (99): Illegal character <6e> in hex string\nSyntax Error (100): Illegal character <2f> in hex string\nSyntax Error (101): Illegal character <22> in hex string\nSyntax Error (104): Illegal character <6d> in hex string\nSyntax Error (106): Illegal character <74> in hex string\nSyntax Error (109): Illegal character <6e> in hex string\nSyntax Error (111): Illegal character <6d> in hex string\nSyntax Error (113): Illegal character <3d> in hex string\nSyntax Error (114): Illegal character <22> in hex string\nSyntax Error (115): Illegal character <72> in hex string\nSyntax Error (119): Illegal character <72> in hex string\nSyntax Error (120): Illegal character <72> in hex string\nSyntax Error (122): Illegal character <72> in hex string\nSyntax Error (123): Illegal character <22> in hex string\nSyntax Error (126): Illegal character <6f> in hex string\nSyntax Error (127): Illegal character <6e> in hex string\nSyntax Error (128): Illegal character <74> in hex string\nSyntax Error (130): Illegal character <6e> in hex string\nSyntax Error (131): Illegal character <74> in hex string\nSyntax Error (132): Illegal character <3d> in hex string\nSyntax Error (133): Illegal character <22> in hex string\nSyntax Error (134): Illegal character <6f> in hex string\nSyntax Error (135): Illegal character <72> in hex string\nSyntax Error (136): Illegal character <69> in hex string\nSyntax Error (137): Illegal character <67> in hex string\nSyntax Error (138): Illegal character <69> in hex string\nSyntax Error (139): Illegal character <6e> in hex string\nSyntax Error (140): Illegal character <22> in hex string\nSyntax Error (143): Illegal character <6d> in hex string\nSyntax Error (145): Illegal character <74> in hex string\nSyntax Error (148): Illegal character <6e> in hex string\nSyntax Error (150): Illegal character <6d> in hex string\nSyntax Error (152): Illegal character <3d> in hex string\nSyntax Error (153): Illegal character <22> in hex string\nSyntax Error (154): Illegal character <76> in hex string\nSyntax Error (155): Illegal character <69> in hex string\nSyntax Error (157): Illegal character <77> in hex string\nSyntax Error (158): Illegal character <70> in hex string\nSyntax Error (159): Illegal character <6f> in hex string\nSyntax Error (160): Illegal character <72> in hex string\nSyntax Error (161): Illegal character <74> in hex string\nSyntax Error (162): Illegal character <22> in hex string\nSyntax Error (165): Illegal character <6f> in hex string\nSyntax Error (166): Illegal character <6e> in hex string\nSyntax Error (167): Illegal character <74> in hex string\nSyntax Error (169): Illegal character <6e> in hex string\nSyntax Error (170): Illegal character <74> in hex string\nSyntax Error (171): Illegal character <3d> in hex string\nSyntax Error (172): Illegal character <22> in hex string\nSyntax Error (173): Illegal character <77> in hex string\nSyntax Error (174): Illegal character <69> in hex string\nSyntax Error (176): Illegal character <74> in hex string\nSyntax Error (177): Illegal character <68> in hex string\nSyntax Error (178): Illegal character <3d> in hex string\nSyntax Error (181): Illegal character <76> in hex string\nSyntax Error (182): Illegal character <69> in hex string\nSyntax Error (185): Illegal character <2d> in hex string\nSyntax Error (186): Illegal character <77> in hex string\nSyntax Error (187): Illegal character <69> in hex string\nSyntax Error (189): Illegal character <74> in hex string\nSyntax Error (190): Illegal character <68> in hex string\nSyntax Error (191): Illegal character <2c> in hex string\nSyntax Error (193): Illegal character <69> in hex string\nSyntax Error (194): Illegal character <6e> in hex string\nSyntax Error (195): Illegal character <69> in hex string\nSyntax Error (196): Illegal character <74> in hex string\nSyntax Error (197): Illegal character <69> in hex string\nSyntax Error (199): Illegal character <6c> in hex string\nSyntax Error (200): Illegal character <2d> in hex string\nSyntax Error (201): Illegal character <73> in hex string\nSyntax Error (204): Illegal character <6c> in hex string\nSyntax Error (206): Illegal character <3d> in hex string\nSyntax Error (208): Illegal character <22> in hex string\nSyntax Error: Couldn't find trailer dictionary\nSyntax Error: Couldn't find trailer dictionary\nSyntax Error: Couldn't read xref table\n"
          ]
        }
      ],
      "source": [
        "images = []\n",
        "\n",
        "for image in get_slides(url):\n",
        "\n",
        "    plot(image)\n",
        "\n",
        "    images.append(load(image))\n",
        "\n",
        "images = torch.vstack(images)"
      ]
    },
    {
      "cell_type": "code",
      "execution_count": 8,
      "metadata": {
        "colab": {
          "base_uri": "https://localhost:8080/",
          "height": 169
        },
        "id": "uKsUVAPdQwmP",
        "outputId": "945d76f2-bb61-408e-fa6b-d2ceec39cd5a"
      },
      "outputs": [
        {
          "output_type": "error",
          "ename": "AttributeError",
          "evalue": "ignored",
          "traceback": [
            "\u001b[0;31m---------------------------------------------------------------------------\u001b[0m",
            "\u001b[0;31mAttributeError\u001b[0m                            Traceback (most recent call last)",
            "\u001b[0;32m<ipython-input-8-972d9bbd0d84>\u001b[0m in \u001b[0;36m<module>\u001b[0;34m\u001b[0m\n\u001b[0;32m----> 1\u001b[0;31m \u001b[0mimages\u001b[0m\u001b[0;34m.\u001b[0m\u001b[0mshape\u001b[0m\u001b[0;34m\u001b[0m\u001b[0;34m\u001b[0m\u001b[0m\n\u001b[0m",
            "\u001b[0;31mAttributeError\u001b[0m: 'list' object has no attribute 'shape'"
          ]
        }
      ],
      "source": [
        "images.shape"
      ]
    },
    {
      "cell_type": "code",
      "execution_count": null,
      "metadata": {
        "colab": {
          "background_save": true
        },
        "id": "fJlgt1avR3I9"
      },
      "outputs": [],
      "source": [
        "model(images)"
      ]
    },
    {
      "cell_type": "code",
      "execution_count": null,
      "metadata": {
        "colab": {
          "background_save": true
        },
        "id": "lgGzMREYR3LN"
      },
      "outputs": [],
      "source": [
        "y = model(images)"
      ]
    },
    {
      "cell_type": "code",
      "execution_count": null,
      "metadata": {
        "colab": {
          "background_save": true
        },
        "id": "L3NVy8_7T_rb"
      },
      "outputs": [],
      "source": [
        "y.shape"
      ]
    },
    {
      "cell_type": "code",
      "execution_count": null,
      "metadata": {
        "colab": {
          "background_save": true
        },
        "id": "UsYfYT6UR3Nn"
      },
      "outputs": [],
      "source": [
        "guesses = torch.argmax(y, 1).cpu().numpy()"
      ]
    },
    {
      "cell_type": "code",
      "execution_count": null,
      "metadata": {
        "colab": {
          "background_save": true
        },
        "id": "QvSec8rITW7T"
      },
      "outputs": [],
      "source": [
        "for i in list(guesses):\n",
        "    print(labels[i])\n",
        "    # what what i should print"
      ]
    },
    {
      "cell_type": "code",
      "execution_count": null,
      "metadata": {
        "colab": {
          "background_save": true
        },
        "id": "CALvf79gjAY-"
      },
      "outputs": [],
      "source": [
        "Y = np.zeros(50,)\n",
        "Y[25:] = 1\n",
        "# value of y and x."
      ]
    },
    {
      "cell_type": "code",
      "execution_count": null,
      "metadata": {
        "colab": {
          "background_save": true
        },
        "id": "HSF3ICfP04kM"
      },
      "outputs": [],
      "source": [
        "Y\n",
        "# y is defined"
      ]
    },
    {
      "cell_type": "code",
      "execution_count": null,
      "metadata": {
        "colab": {
          "background_save": true
        },
        "id": "ZqvMEcxhY6dl"
      },
      "outputs": [],
      "source": [
        "X = y.detach().cpu().numpy() \n",
        "# x is defined"
      ]
    },
    {
      "cell_type": "code",
      "execution_count": null,
      "metadata": {
        "colab": {
          "background_save": true
        },
        "id": "KqPB9TKyEJCS"
      },
      "outputs": [],
      "source": [
        "X.shape"
      ]
    },
    {
      "cell_type": "code",
      "execution_count": null,
      "metadata": {
        "colab": {
          "background_save": true
        },
        "id": "OB9J8q8LEgCG"
      },
      "outputs": [],
      "source": [
        "plt.plot(X[0],'.')\n",
        "# how the plot should be"
      ]
    },
    {
      "cell_type": "code",
      "execution_count": null,
      "metadata": {
        "colab": {
          "background_save": true
        },
        "id": "_pfcg2h51IQr"
      },
      "outputs": [],
      "source": [
        "X[0]\n",
        "# x is set to 0"
      ]
    },
    {
      "cell_type": "code",
      "execution_count": null,
      "metadata": {
        "colab": {
          "background_save": true
        },
        "id": "BaHI4-u_1O87"
      },
      "outputs": [],
      "source": [
        "np.argmax(X[0])\n",
        "# x goes up to 10"
      ]
    },
    {
      "cell_type": "code",
      "execution_count": null,
      "metadata": {
        "colab": {
          "background_save": true
        },
        "id": "lEJfAcaM2mdG"
      },
      "outputs": [],
      "source": [
        "labels[948]"
      ]
    },
    {
      "cell_type": "code",
      "execution_count": null,
      "metadata": {
        "colab": {
          "background_save": true
        },
        "id": "r3wq2fNM13K9"
      },
      "outputs": [],
      "source": [
        "top_ten = np.argsort(X[0])[::-1][0:10]\n",
        "# x goes from -1 to 10"
      ]
    },
    {
      "cell_type": "code",
      "execution_count": null,
      "metadata": {
        "colab": {
          "background_save": true
        },
        "id": "d3awGR9i18os"
      },
      "outputs": [],
      "source": [
        "for i in top_ten:\n",
        "    print(labels[i])\n",
        "    # command it to print i"
      ]
    },
    {
      "cell_type": "code",
      "execution_count": null,
      "metadata": {
        "colab": {
          "background_save": true
        },
        "id": "SXOMKyB_1Zfa"
      },
      "outputs": [],
      "source": [
        "labels\n",
        "# labels is set"
      ]
    },
    {
      "cell_type": "code",
      "execution_count": null,
      "metadata": {
        "colab": {
          "background_save": true
        },
        "id": "cetMFwBQngCQ"
      },
      "outputs": [],
      "source": [
        "plt.hist(X[0])"
      ]
    },
    {
      "cell_type": "code",
      "execution_count": null,
      "metadata": {
        "colab": {
          "background_save": true
        },
        "id": "zBt4rsdIefV_"
      },
      "outputs": [],
      "source": [
        "X = GPU_data(X)\n",
        "Y = GPU_data(Y)\n",
        "# x and y is assigned to it’s variables"
      ]
    },
    {
      "cell_type": "code",
      "execution_count": null,
      "metadata": {
        "colab": {
          "background_save": true
        },
        "id": "m4BlYG-CgC2z"
      },
      "outputs": [],
      "source": [
        "def softmax(x):\n",
        "    s1 = torch.exp(x - torch.max(x,1)[0][:,None])\n",
        "    s = s1 / s1.sum(1)[:,None]\n",
        "    return s\n",
        "    # softmax is defined"
      ]
    },
    {
      "cell_type": "code",
      "execution_count": null,
      "metadata": {
        "colab": {
          "background_save": true
        },
        "id": "XZ-UV8W_c_9o"
      },
      "outputs": [],
      "source": [
        "def cross_entropy(outputs, labels):            \n",
        "    return -torch.sum(softmax(outputs).log()[range(outputs.size()[0]), labels.long()])/outputs.size()[0]  \n",
        "    # cross_entropy is defined"
      ]
    },
    {
      "cell_type": "code",
      "execution_count": null,
      "metadata": {
        "colab": {
          "background_save": true
        },
        "id": "wtL1kZcZICVP"
      },
      "outputs": [],
      "source": [
        "def randn_trunc(s): #Truncated Normal Random Numbers\n",
        "    mu = 0 \n",
        "    sigma = 0.1\n",
        "    R = stats.truncnorm((-2*sigma - mu) / sigma, (2*sigma - mu) / sigma, loc=mu, scale=sigma)\n",
        "    return R.rvs(s)\n",
        "    # randn_trunc is defined"
      ]
    },
    {
      "cell_type": "code",
      "execution_count": null,
      "metadata": {
        "colab": {
          "background_save": true
        },
        "id": "wPQjN4JwYHAz"
      },
      "outputs": [],
      "source": [
        "def Truncated_Normal(size):\n",
        "\n",
        "    u1 = torch.rand(size)*(1-np.exp(-2)) + np.exp(-2)\n",
        "    u2 = torch.rand(size)\n",
        "    z  = torch.sqrt(-2*torch.log(u1)) * torch.cos(2*np.pi*u2)\n",
        "\n",
        "    return z\n",
        "    # Truncated_Normal is defined"
      ]
    },
    {
      "cell_type": "code",
      "execution_count": null,
      "metadata": {
        "colab": {
          "background_save": true
        },
        "id": "LW3ttVcq1sI9"
      },
      "outputs": [],
      "source": [
        "def acc(out,y):\n",
        "    with torch.no_grad():\n",
        "        return (torch.sum(torch.max(out,1)[1] == y).item())/y.shape[0]\n",
        "        # acc is defined"
      ]
    },
    {
      "cell_type": "code",
      "execution_count": null,
      "metadata": {
        "colab": {
          "background_save": true
        },
        "id": "5UXgio04fyvz"
      },
      "outputs": [],
      "source": [
        "X.shape\n",
        "# how the shape of x will be"
      ]
    },
    {
      "cell_type": "code",
      "execution_count": null,
      "metadata": {
        "colab": {
          "background_save": true
        },
        "id": "x79Sie8XKPOC"
      },
      "outputs": [],
      "source": [
        "def get_batch(mode):\n",
        "    b = c.b\n",
        "    if mode == \"train\":\n",
        "        r = np.random.randint(X.shape[0]-b) \n",
        "        x = X[r:r+b,:]\n",
        "        y = Y[r:r+b]\n",
        "    elif mode == \"test\":\n",
        "        r = np.random.randint(X_test.shape[0]-b)\n",
        "        x = X_test[r:r+b,:]\n",
        "        y = Y_test[r:r+b]\n",
        "    return x,y\n",
        "    # get_batch is defined"
      ]
    },
    {
      "cell_type": "code",
      "execution_count": null,
      "metadata": {
        "colab": {
          "background_save": true
        },
        "id": "vXOr9aM8A8P-"
      },
      "outputs": [],
      "source": [
        "def model(x,w):\n",
        "\n",
        "    return x@w[0]"
      ]
    },
    {
      "cell_type": "code",
      "execution_count": null,
      "metadata": {
        "colab": {
          "background_save": true
        },
        "id": "uzRsuDek9Fve"
      },
      "outputs": [],
      "source": [
        "def make_plots():\n",
        "    \n",
        "    acc_train = acc(model(x,w),y)\n",
        "    \n",
        "    # xt,yt = get_batch('test')\n",
        "\n",
        "    # acc_test = acc(model(xt,w),yt)\n",
        "\n",
        "    wb.log({\"acc_train\": acc_train})"
      ]
    },
    {
      "cell_type": "code",
      "execution_count": null,
      "metadata": {
        "colab": {
          "background_save": true
        },
        "id": "WANJibeUNghZ"
      },
      "outputs": [],
      "source": [
        "wb.init(project=\"Linear_Model_Photo_1\");\n",
        "c = wb.config\n",
        "\n",
        "c.h = 0.001\n",
        "c.b = 32\n",
        "c.epochs = 100000\n",
        "\n",
        "w = [GPU(Truncated_Normal((1000,2)))]\n",
        "\n",
        "optimizer = torch.optim.Adam(w, lr=c.h)  \n",
        "\n",
        "for i in range(c.epochs):\n",
        "\n",
        "    x,y = get_batch('train')\n",
        "\n",
        "    loss = cross_entropy(softmax(model(x,w)),y)\n",
        "\n",
        "    optimizer.zero_grad()\n",
        "    loss.backward()\n",
        "    optimizer.step()\n",
        "   \n",
        "    wb.log({\"loss\": loss})\n",
        "\n",
        "    make_plots()\n",
        "    # defining all thevalues nad plotting them.\n"
      ]
    },
    {
      "cell_type": "markdown",
      "metadata": {
        "id": "sI--oRHS7Olk"
      },
      "source": [
        "https://tensorspace.org/"
      ]
    },
    {
      "cell_type": "code",
      "execution_count": null,
      "metadata": {
        "colab": {
          "background_save": true
        },
        "id": "VGdS4Ccv3ToX"
      },
      "outputs": [],
      "source": []
    },
    {
      "cell_type": "code",
      "execution_count": null,
      "metadata": {
        "id": "cogMnVmoY6fs"
      },
      "outputs": [],
      "source": []
    },
    {
      "cell_type": "code",
      "execution_count": null,
      "metadata": {
        "id": "numPOTfxY6h8"
      },
      "outputs": [],
      "source": []
    },
    {
      "cell_type": "code",
      "execution_count": null,
      "metadata": {
        "id": "9H5XxYs2Y6jl"
      },
      "outputs": [],
      "source": []
    },
    {
      "cell_type": "code",
      "execution_count": null,
      "metadata": {
        "id": "dnuZwveTjkLb"
      },
      "outputs": [],
      "source": []
    },
    {
      "cell_type": "code",
      "execution_count": null,
      "metadata": {
        "id": "Iqz6xc5VjkNo"
      },
      "outputs": [],
      "source": []
    },
    {
      "cell_type": "code",
      "execution_count": null,
      "metadata": {
        "id": "gfnOAreBjkPo"
      },
      "outputs": [],
      "source": []
    },
    {
      "cell_type": "code",
      "execution_count": null,
      "metadata": {
        "id": "M052UNm_OwV5"
      },
      "outputs": [],
      "source": []
    },
    {
      "cell_type": "code",
      "execution_count": null,
      "metadata": {
        "id": "-iAwNrgSOwX3"
      },
      "outputs": [],
      "source": []
    },
    {
      "cell_type": "code",
      "execution_count": null,
      "metadata": {
        "id": "isgUmuudOwaP"
      },
      "outputs": [],
      "source": []
    },
    {
      "cell_type": "code",
      "execution_count": null,
      "metadata": {
        "id": "44_in1VIjkRr"
      },
      "outputs": [],
      "source": []
    }
  ],
  "metadata": {
    "accelerator": "GPU",
    "colab": {
      "provenance": [],
      "include_colab_link": true
    },
    "gpuClass": "standard",
    "kernelspec": {
      "display_name": "Python 3",
      "name": "python3"
    },
    "language_info": {
      "name": "python"
    },
    "widgets": {
      "application/vnd.jupyter.widget-state+json": {
        "217b87dece984ba69316efb08cdcd9d8": {
          "model_module": "@jupyter-widgets/controls",
          "model_name": "HBoxModel",
          "model_module_version": "1.5.0",
          "state": {
            "_dom_classes": [],
            "_model_module": "@jupyter-widgets/controls",
            "_model_module_version": "1.5.0",
            "_model_name": "HBoxModel",
            "_view_count": null,
            "_view_module": "@jupyter-widgets/controls",
            "_view_module_version": "1.5.0",
            "_view_name": "HBoxView",
            "box_style": "",
            "children": [
              "IPY_MODEL_da39b02d0d634010b36806286a65a7ef",
              "IPY_MODEL_b8dd3948cb9f4424bbe0595c89cbdf79",
              "IPY_MODEL_fd3247fadf0b48f6aac627cebef8b28f"
            ],
            "layout": "IPY_MODEL_ccf8e1fbc41949178c3ef999f8c5a797"
          }
        },
        "da39b02d0d634010b36806286a65a7ef": {
          "model_module": "@jupyter-widgets/controls",
          "model_name": "HTMLModel",
          "model_module_version": "1.5.0",
          "state": {
            "_dom_classes": [],
            "_model_module": "@jupyter-widgets/controls",
            "_model_module_version": "1.5.0",
            "_model_name": "HTMLModel",
            "_view_count": null,
            "_view_module": "@jupyter-widgets/controls",
            "_view_module_version": "1.5.0",
            "_view_name": "HTMLView",
            "description": "",
            "description_tooltip": null,
            "layout": "IPY_MODEL_b2ba6a82ef4249a59072e733eeb97845",
            "placeholder": "​",
            "style": "IPY_MODEL_e667139a69724e698006170fff4b846b",
            "value": "100%"
          }
        },
        "b8dd3948cb9f4424bbe0595c89cbdf79": {
          "model_module": "@jupyter-widgets/controls",
          "model_name": "FloatProgressModel",
          "model_module_version": "1.5.0",
          "state": {
            "_dom_classes": [],
            "_model_module": "@jupyter-widgets/controls",
            "_model_module_version": "1.5.0",
            "_model_name": "FloatProgressModel",
            "_view_count": null,
            "_view_module": "@jupyter-widgets/controls",
            "_view_module_version": "1.5.0",
            "_view_name": "ProgressView",
            "bar_style": "success",
            "description": "",
            "description_tooltip": null,
            "layout": "IPY_MODEL_f73ccfb615ae49ed9910b41df5fdce87",
            "max": 244408911,
            "min": 0,
            "orientation": "horizontal",
            "style": "IPY_MODEL_10b938f85a444c98b2857cd800765f1c",
            "value": 244408911
          }
        },
        "fd3247fadf0b48f6aac627cebef8b28f": {
          "model_module": "@jupyter-widgets/controls",
          "model_name": "HTMLModel",
          "model_module_version": "1.5.0",
          "state": {
            "_dom_classes": [],
            "_model_module": "@jupyter-widgets/controls",
            "_model_module_version": "1.5.0",
            "_model_name": "HTMLModel",
            "_view_count": null,
            "_view_module": "@jupyter-widgets/controls",
            "_view_module_version": "1.5.0",
            "_view_name": "HTMLView",
            "description": "",
            "description_tooltip": null,
            "layout": "IPY_MODEL_4475ea9cdfd34ce28aa04c6672bc7230",
            "placeholder": "​",
            "style": "IPY_MODEL_70ac21c8e73240c29deabc1dec2ca550",
            "value": " 233M/233M [00:04&lt;00:00, 51.8MB/s]"
          }
        },
        "ccf8e1fbc41949178c3ef999f8c5a797": {
          "model_module": "@jupyter-widgets/base",
          "model_name": "LayoutModel",
          "model_module_version": "1.2.0",
          "state": {
            "_model_module": "@jupyter-widgets/base",
            "_model_module_version": "1.2.0",
            "_model_name": "LayoutModel",
            "_view_count": null,
            "_view_module": "@jupyter-widgets/base",
            "_view_module_version": "1.2.0",
            "_view_name": "LayoutView",
            "align_content": null,
            "align_items": null,
            "align_self": null,
            "border": null,
            "bottom": null,
            "display": null,
            "flex": null,
            "flex_flow": null,
            "grid_area": null,
            "grid_auto_columns": null,
            "grid_auto_flow": null,
            "grid_auto_rows": null,
            "grid_column": null,
            "grid_gap": null,
            "grid_row": null,
            "grid_template_areas": null,
            "grid_template_columns": null,
            "grid_template_rows": null,
            "height": null,
            "justify_content": null,
            "justify_items": null,
            "left": null,
            "margin": null,
            "max_height": null,
            "max_width": null,
            "min_height": null,
            "min_width": null,
            "object_fit": null,
            "object_position": null,
            "order": null,
            "overflow": null,
            "overflow_x": null,
            "overflow_y": null,
            "padding": null,
            "right": null,
            "top": null,
            "visibility": null,
            "width": null
          }
        },
        "b2ba6a82ef4249a59072e733eeb97845": {
          "model_module": "@jupyter-widgets/base",
          "model_name": "LayoutModel",
          "model_module_version": "1.2.0",
          "state": {
            "_model_module": "@jupyter-widgets/base",
            "_model_module_version": "1.2.0",
            "_model_name": "LayoutModel",
            "_view_count": null,
            "_view_module": "@jupyter-widgets/base",
            "_view_module_version": "1.2.0",
            "_view_name": "LayoutView",
            "align_content": null,
            "align_items": null,
            "align_self": null,
            "border": null,
            "bottom": null,
            "display": null,
            "flex": null,
            "flex_flow": null,
            "grid_area": null,
            "grid_auto_columns": null,
            "grid_auto_flow": null,
            "grid_auto_rows": null,
            "grid_column": null,
            "grid_gap": null,
            "grid_row": null,
            "grid_template_areas": null,
            "grid_template_columns": null,
            "grid_template_rows": null,
            "height": null,
            "justify_content": null,
            "justify_items": null,
            "left": null,
            "margin": null,
            "max_height": null,
            "max_width": null,
            "min_height": null,
            "min_width": null,
            "object_fit": null,
            "object_position": null,
            "order": null,
            "overflow": null,
            "overflow_x": null,
            "overflow_y": null,
            "padding": null,
            "right": null,
            "top": null,
            "visibility": null,
            "width": null
          }
        },
        "e667139a69724e698006170fff4b846b": {
          "model_module": "@jupyter-widgets/controls",
          "model_name": "DescriptionStyleModel",
          "model_module_version": "1.5.0",
          "state": {
            "_model_module": "@jupyter-widgets/controls",
            "_model_module_version": "1.5.0",
            "_model_name": "DescriptionStyleModel",
            "_view_count": null,
            "_view_module": "@jupyter-widgets/base",
            "_view_module_version": "1.2.0",
            "_view_name": "StyleView",
            "description_width": ""
          }
        },
        "f73ccfb615ae49ed9910b41df5fdce87": {
          "model_module": "@jupyter-widgets/base",
          "model_name": "LayoutModel",
          "model_module_version": "1.2.0",
          "state": {
            "_model_module": "@jupyter-widgets/base",
            "_model_module_version": "1.2.0",
            "_model_name": "LayoutModel",
            "_view_count": null,
            "_view_module": "@jupyter-widgets/base",
            "_view_module_version": "1.2.0",
            "_view_name": "LayoutView",
            "align_content": null,
            "align_items": null,
            "align_self": null,
            "border": null,
            "bottom": null,
            "display": null,
            "flex": null,
            "flex_flow": null,
            "grid_area": null,
            "grid_auto_columns": null,
            "grid_auto_flow": null,
            "grid_auto_rows": null,
            "grid_column": null,
            "grid_gap": null,
            "grid_row": null,
            "grid_template_areas": null,
            "grid_template_columns": null,
            "grid_template_rows": null,
            "height": null,
            "justify_content": null,
            "justify_items": null,
            "left": null,
            "margin": null,
            "max_height": null,
            "max_width": null,
            "min_height": null,
            "min_width": null,
            "object_fit": null,
            "object_position": null,
            "order": null,
            "overflow": null,
            "overflow_x": null,
            "overflow_y": null,
            "padding": null,
            "right": null,
            "top": null,
            "visibility": null,
            "width": null
          }
        },
        "10b938f85a444c98b2857cd800765f1c": {
          "model_module": "@jupyter-widgets/controls",
          "model_name": "ProgressStyleModel",
          "model_module_version": "1.5.0",
          "state": {
            "_model_module": "@jupyter-widgets/controls",
            "_model_module_version": "1.5.0",
            "_model_name": "ProgressStyleModel",
            "_view_count": null,
            "_view_module": "@jupyter-widgets/base",
            "_view_module_version": "1.2.0",
            "_view_name": "StyleView",
            "bar_color": null,
            "description_width": ""
          }
        },
        "4475ea9cdfd34ce28aa04c6672bc7230": {
          "model_module": "@jupyter-widgets/base",
          "model_name": "LayoutModel",
          "model_module_version": "1.2.0",
          "state": {
            "_model_module": "@jupyter-widgets/base",
            "_model_module_version": "1.2.0",
            "_model_name": "LayoutModel",
            "_view_count": null,
            "_view_module": "@jupyter-widgets/base",
            "_view_module_version": "1.2.0",
            "_view_name": "LayoutView",
            "align_content": null,
            "align_items": null,
            "align_self": null,
            "border": null,
            "bottom": null,
            "display": null,
            "flex": null,
            "flex_flow": null,
            "grid_area": null,
            "grid_auto_columns": null,
            "grid_auto_flow": null,
            "grid_auto_rows": null,
            "grid_column": null,
            "grid_gap": null,
            "grid_row": null,
            "grid_template_areas": null,
            "grid_template_columns": null,
            "grid_template_rows": null,
            "height": null,
            "justify_content": null,
            "justify_items": null,
            "left": null,
            "margin": null,
            "max_height": null,
            "max_width": null,
            "min_height": null,
            "min_width": null,
            "object_fit": null,
            "object_position": null,
            "order": null,
            "overflow": null,
            "overflow_x": null,
            "overflow_y": null,
            "padding": null,
            "right": null,
            "top": null,
            "visibility": null,
            "width": null
          }
        },
        "70ac21c8e73240c29deabc1dec2ca550": {
          "model_module": "@jupyter-widgets/controls",
          "model_name": "DescriptionStyleModel",
          "model_module_version": "1.5.0",
          "state": {
            "_model_module": "@jupyter-widgets/controls",
            "_model_module_version": "1.5.0",
            "_model_name": "DescriptionStyleModel",
            "_view_count": null,
            "_view_module": "@jupyter-widgets/base",
            "_view_module_version": "1.2.0",
            "_view_name": "StyleView",
            "description_width": ""
          }
        }
      }
    }
  },
  "nbformat": 4,
  "nbformat_minor": 0
}